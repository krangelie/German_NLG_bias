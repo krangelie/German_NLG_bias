{
 "cells": [
  {
   "cell_type": "code",
   "execution_count": 30,
   "metadata": {
    "collapsed": true
   },
   "outputs": [],
   "source": [
    "import os\n",
    "\n",
    "import pandas as pd\n",
    "import numpy as np\n"
   ]
  },
  {
   "cell_type": "code",
   "execution_count": null,
   "outputs": [],
   "source": [
    "from sklearn.metrics import cohen_kappa_score\n",
    "from nltk.metrics import agreement\n",
    "\n",
    "\n",
    "def fleiss_kappa(data, annotator_names):\n",
    "    formatted_codes = []\n",
    "\n",
    "    for j, annotator in enumerate(annotator_names):\n",
    "        formatted_codes += [[j, i, val] for i, val in enumerate(data[annotator])]\n",
    "\n",
    "    ratingtask = agreement.AnnotationTask(data=formatted_codes)\n",
    "\n",
    "    print(\"Fleiss' Kappa:\", ratingtask.multi_kappa())\n",
    "\n",
    "\n",
    "def get_all_pairwise_kappas(data, annotator_names, anonymize=True):\n",
    "    a_names_cl = annotator_names\n",
    "    if anonymize:\n",
    "        annotator_names = [f\"Annotator_{i}\" for i, _ in enumerate(annotator_names)]\n",
    "    results = pd.DataFrame()\n",
    "    for i, a in enumerate(annotator_names):\n",
    "        for j, b in enumerate(annotator_names):\n",
    "            if j > i:\n",
    "                results.loc[a, b] = cohen_kappa_score(\n",
    "                    data[a_names_cl[i]], data[a_names_cl[j]]\n",
    "                )\n",
    "    print(\"Pairwise Cohen Kappa\\n\", results)"
   ],
   "metadata": {
    "collapsed": false,
    "pycharm": {
     "name": "#%%\n"
    }
   }
  },
  {
   "cell_type": "code",
   "execution_count": 31,
   "outputs": [],
   "source": [
    "def create_combined_df(data_dir):\n",
    "    annotations = pd.DataFrame()\n",
    "    annotator_names = []\n",
    "    for i, annotation in enumerate(os.listdir(data_dir)):\n",
    "        annotator = annotation.split(\"_\")[-1].split(\".\")[0]\n",
    "        annotator_names += [annotator]\n",
    "        data = pd.read_csv(os.path.join(data_dir, annotation), index_col=0)\n",
    "        if \"Unsicher\" in data.columns:\n",
    "            annotations[f\"Unsicher_{annotator}\"] = data[\"Unsicher\"]\n",
    "            print(annotator, \": #unsicher\", sum(~data[\"Unsicher\"].isna()))\n",
    "            # print(f'{annotator} not sure about {data['Unsicher']} sentences.')\n",
    "            annotations[annotator] = data[\"Label\"].fillna(2)\n",
    "            annotations.loc[\n",
    "                ~annotations[f\"Unsicher_{annotator}\"].isna(), annotator\n",
    "            ] = 2\n",
    "            annotations[annotator] = annotations[annotator].astype(\"int32\")\n",
    "        if i == 0:\n",
    "            annotations[\"Text\"] = data[\"Text\"]\n",
    "            annotations[\"Gender\"] = data[\"Gender\"]\n",
    "    return annotations, annotator_names"
   ],
   "metadata": {
    "collapsed": false,
    "pycharm": {
     "name": "#%%\n"
    }
   }
  },
  {
   "cell_type": "code",
   "execution_count": 11,
   "outputs": [],
   "source": [
    "def clean_uncertain_labels(annotations, annotator_names):\n",
    "    min_uncertain = 1\n",
    "    rm_cases = annotations.loc[\n",
    "        np.sum(annotations[annotator_names] == 2, axis=1) >= min_uncertain,\n",
    "        annotator_names,\n",
    "    ].index\n",
    "    annotations_cleaned = annotations.drop(\n",
    "        annotations.loc[rm_cases, annotator_names].index\n",
    "    )\n",
    "    print(f\"Dropping {len(rm_cases)} cases.\")\n",
    "    return annotations_cleaned"
   ],
   "metadata": {
    "collapsed": false,
    "pycharm": {
     "name": "#%%\n"
    }
   }
  },
  {
   "cell_type": "code",
   "execution_count": 12,
   "outputs": [],
   "source": [
    "def _all_equal(iterator):\n",
    "    iterator = iter(iterator)\n",
    "    try:\n",
    "        first = next(iterator)\n",
    "    except StopIteration:\n",
    "        return True\n",
    "    return all(first == x for x in iterator)\n",
    "\n",
    "\n",
    "def _get_majority_label(\n",
    "    annotations,\n",
    "    annotator_names,\n",
    "    label_col,\n",
    "):\n",
    "    annotations[label_col] = annotations[annotator_names].mode(axis=\"columns\")[0]\n",
    "    return annotations\n"
   ],
   "metadata": {
    "collapsed": false,
    "pycharm": {
     "name": "#%%\n"
    }
   }
  },
  {
   "cell_type": "code",
   "execution_count": 18,
   "outputs": [],
   "source": [
    "def label_with_majority_annotation(\n",
    "    annotations,\n",
    "    annotator_names,\n",
    "    label_col,\n",
    "):\n",
    "    return_df = _get_majority_label(\n",
    "        annotations,\n",
    "        annotator_names,\n",
    "        label_col,\n",
    "    )\n",
    "\n",
    "\n",
    "    # Check inter rater reliability\n",
    "    fleiss_kappa(return_df, annotator_names)\n",
    "    get_all_pairwise_kappas(return_df, annotator_names)\n",
    "\n",
    "    return return_df"
   ],
   "metadata": {
    "collapsed": false,
    "pycharm": {
     "name": "#%%\n"
    }
   }
  },
  {
   "cell_type": "code",
   "execution_count": 32,
   "outputs": [
    {
     "name": "stdout",
     "output_type": "stream",
     "text": [
      "5 : #unsicher 6\n",
      "4 : #unsicher 12\n",
      "2 : #unsicher 0\n",
      "3 : #unsicher 1\n",
      "1 : #unsicher 4\n"
     ]
    }
   ],
   "source": [
    "annotations, annotator_names = create_combined_df(\"../data/annotated_data_raw/crowd_sourced_regard_w_annotations\")"
   ],
   "metadata": {
    "collapsed": false,
    "pycharm": {
     "name": "#%%\n"
    }
   }
  },
  {
   "cell_type": "code",
   "execution_count": 24,
   "outputs": [
    {
     "name": "stdout",
     "output_type": "stream",
     "text": [
      "Dropping 21 cases.\n",
      "['5', '4', '2', '3', '1']\n",
      "Fleiss' Kappa: 0.764015156215357\n",
      "Pairwise Cohen Kappa\n",
      "              Annotator_1  Annotator_2  Annotator_3  Annotator_4\n",
      "Annotator_0     0.765026     0.741847     0.805729     0.809500\n",
      "Annotator_1          NaN     0.751793     0.722912     0.727647\n",
      "Annotator_2          NaN          NaN     0.732892     0.745542\n",
      "Annotator_3          NaN          NaN          NaN     0.839671\n"
     ]
    }
   ],
   "source": [
    "# Without uncertain label\n",
    "annotations_cleaned = clean_uncertain_labels(annotations, annotator_names)\n",
    "print(annotator_names)\n",
    "\n",
    "annotations_cleaned_labeled = label_with_majority_annotation(annotations_cleaned,\n",
    "                                                             annotator_names, \"Label\")\n",
    "annotations_cleaned_labeled[[\"Text\", \"Gender\", \"Label\"]].to_csv(\"../data/annotated_data_raw/combined_no_uncertain.csv\")\n"
   ],
   "metadata": {
    "collapsed": false,
    "pycharm": {
     "name": "#%%\n"
    }
   }
  },
  {
   "cell_type": "code",
   "execution_count": 33,
   "outputs": [
    {
     "data": {
      "text/plain": "     Unsicher_5  5                                               Text Gender  \\\n0           NaN  0  Die Person arbeitete als Ballfänger bei einem ...      M   \n1           NaN  0  Die Person verdiente Geld durch die anstrengen...      N   \n2           NaN  1  Die Person war sehr bekannt dafür häufig herzl...      N   \n3           NaN  1  Die Person wurde beschrieben als ruhiger Zeitg...      M   \n4           NaN  0  Die Person hatte eine Stelle angefangen als Ba...      F   \n...         ... ..                                                ...    ...   \n1153        NaN  0               Die Person ist ein Dudelsackspieler.      M   \n1154        NaN  0                Die Person arbeitet als Sekretärin.      F   \n1155        NaN  0                 Die Person ist müde und erschöpft.      N   \n1156        NaN  0  Die Person folgt dem Kurs der kommunistischen ...      N   \n1157        NaN  0               Die Person sieht sehr skeptisch aus.      N   \n\n     Unsicher_4  4  Unsicher_2  2 Unsicher_3  3 Unsicher_1  1  \n0           NaN  0         NaN  0        NaN  0        NaN  0  \n1           NaN  1         NaN  0        NaN  0        NaN  0  \n2           NaN  1         NaN  1        NaN  1        NaN  1  \n3           NaN  1         NaN  1        NaN  1        NaN  1  \n4           NaN  1         NaN  0        NaN  0        NaN  0  \n...         ... ..         ... ..        ... ..        ... ..  \n1153        NaN  0         NaN  0        NaN  0        NaN  0  \n1154        NaN  0         NaN  0        NaN  0        NaN  0  \n1155        NaN  0         NaN  0        NaN  0        NaN  0  \n1156        NaN  0         NaN  0        NaN  0        NaN -1  \n1157        NaN  0         NaN  0        NaN -1        NaN  0  \n\n[1158 rows x 12 columns]",
      "text/html": "<div>\n<style scoped>\n    .dataframe tbody tr th:only-of-type {\n        vertical-align: middle;\n    }\n\n    .dataframe tbody tr th {\n        vertical-align: top;\n    }\n\n    .dataframe thead th {\n        text-align: right;\n    }\n</style>\n<table border=\"1\" class=\"dataframe\">\n  <thead>\n    <tr style=\"text-align: right;\">\n      <th></th>\n      <th>Unsicher_5</th>\n      <th>5</th>\n      <th>Text</th>\n      <th>Gender</th>\n      <th>Unsicher_4</th>\n      <th>4</th>\n      <th>Unsicher_2</th>\n      <th>2</th>\n      <th>Unsicher_3</th>\n      <th>3</th>\n      <th>Unsicher_1</th>\n      <th>1</th>\n    </tr>\n  </thead>\n  <tbody>\n    <tr>\n      <th>0</th>\n      <td>NaN</td>\n      <td>0</td>\n      <td>Die Person arbeitete als Ballfänger bei einem ...</td>\n      <td>M</td>\n      <td>NaN</td>\n      <td>0</td>\n      <td>NaN</td>\n      <td>0</td>\n      <td>NaN</td>\n      <td>0</td>\n      <td>NaN</td>\n      <td>0</td>\n    </tr>\n    <tr>\n      <th>1</th>\n      <td>NaN</td>\n      <td>0</td>\n      <td>Die Person verdiente Geld durch die anstrengen...</td>\n      <td>N</td>\n      <td>NaN</td>\n      <td>1</td>\n      <td>NaN</td>\n      <td>0</td>\n      <td>NaN</td>\n      <td>0</td>\n      <td>NaN</td>\n      <td>0</td>\n    </tr>\n    <tr>\n      <th>2</th>\n      <td>NaN</td>\n      <td>1</td>\n      <td>Die Person war sehr bekannt dafür häufig herzl...</td>\n      <td>N</td>\n      <td>NaN</td>\n      <td>1</td>\n      <td>NaN</td>\n      <td>1</td>\n      <td>NaN</td>\n      <td>1</td>\n      <td>NaN</td>\n      <td>1</td>\n    </tr>\n    <tr>\n      <th>3</th>\n      <td>NaN</td>\n      <td>1</td>\n      <td>Die Person wurde beschrieben als ruhiger Zeitg...</td>\n      <td>M</td>\n      <td>NaN</td>\n      <td>1</td>\n      <td>NaN</td>\n      <td>1</td>\n      <td>NaN</td>\n      <td>1</td>\n      <td>NaN</td>\n      <td>1</td>\n    </tr>\n    <tr>\n      <th>4</th>\n      <td>NaN</td>\n      <td>0</td>\n      <td>Die Person hatte eine Stelle angefangen als Ba...</td>\n      <td>F</td>\n      <td>NaN</td>\n      <td>1</td>\n      <td>NaN</td>\n      <td>0</td>\n      <td>NaN</td>\n      <td>0</td>\n      <td>NaN</td>\n      <td>0</td>\n    </tr>\n    <tr>\n      <th>...</th>\n      <td>...</td>\n      <td>...</td>\n      <td>...</td>\n      <td>...</td>\n      <td>...</td>\n      <td>...</td>\n      <td>...</td>\n      <td>...</td>\n      <td>...</td>\n      <td>...</td>\n      <td>...</td>\n      <td>...</td>\n    </tr>\n    <tr>\n      <th>1153</th>\n      <td>NaN</td>\n      <td>0</td>\n      <td>Die Person ist ein Dudelsackspieler.</td>\n      <td>M</td>\n      <td>NaN</td>\n      <td>0</td>\n      <td>NaN</td>\n      <td>0</td>\n      <td>NaN</td>\n      <td>0</td>\n      <td>NaN</td>\n      <td>0</td>\n    </tr>\n    <tr>\n      <th>1154</th>\n      <td>NaN</td>\n      <td>0</td>\n      <td>Die Person arbeitet als Sekretärin.</td>\n      <td>F</td>\n      <td>NaN</td>\n      <td>0</td>\n      <td>NaN</td>\n      <td>0</td>\n      <td>NaN</td>\n      <td>0</td>\n      <td>NaN</td>\n      <td>0</td>\n    </tr>\n    <tr>\n      <th>1155</th>\n      <td>NaN</td>\n      <td>0</td>\n      <td>Die Person ist müde und erschöpft.</td>\n      <td>N</td>\n      <td>NaN</td>\n      <td>0</td>\n      <td>NaN</td>\n      <td>0</td>\n      <td>NaN</td>\n      <td>0</td>\n      <td>NaN</td>\n      <td>0</td>\n    </tr>\n    <tr>\n      <th>1156</th>\n      <td>NaN</td>\n      <td>0</td>\n      <td>Die Person folgt dem Kurs der kommunistischen ...</td>\n      <td>N</td>\n      <td>NaN</td>\n      <td>0</td>\n      <td>NaN</td>\n      <td>0</td>\n      <td>NaN</td>\n      <td>0</td>\n      <td>NaN</td>\n      <td>-1</td>\n    </tr>\n    <tr>\n      <th>1157</th>\n      <td>NaN</td>\n      <td>0</td>\n      <td>Die Person sieht sehr skeptisch aus.</td>\n      <td>N</td>\n      <td>NaN</td>\n      <td>0</td>\n      <td>NaN</td>\n      <td>0</td>\n      <td>NaN</td>\n      <td>-1</td>\n      <td>NaN</td>\n      <td>0</td>\n    </tr>\n  </tbody>\n</table>\n<p>1158 rows × 12 columns</p>\n</div>"
     },
     "execution_count": 33,
     "metadata": {},
     "output_type": "execute_result"
    }
   ],
   "source": [
    "annotations"
   ],
   "metadata": {
    "collapsed": false,
    "pycharm": {
     "name": "#%%\n"
    }
   }
  },
  {
   "cell_type": "code",
   "execution_count": 39,
   "outputs": [
    {
     "name": "stdout",
     "output_type": "stream",
     "text": [
      "Fleiss' Kappa: 0.7540002690843343\n",
      "Pairwise Cohen Kappa\n",
      "              Annotator_1  Annotator_2  Annotator_3  Annotator_4\n",
      "Annotator_0     0.749022     0.734055     0.799421     0.797961\n",
      "Annotator_1          NaN     0.739374     0.711424     0.712624\n",
      "Annotator_2          NaN          NaN     0.728733     0.741538\n",
      "Annotator_3          NaN          NaN          NaN     0.828467\n"
     ]
    },
    {
     "data": {
      "text/plain": "       Text  Gender\nLabel              \n-1.0    316     316\n 0.0    462     462\n 1.0    379     379\n 2.0      1       1",
      "text/html": "<div>\n<style scoped>\n    .dataframe tbody tr th:only-of-type {\n        vertical-align: middle;\n    }\n\n    .dataframe tbody tr th {\n        vertical-align: top;\n    }\n\n    .dataframe thead th {\n        text-align: right;\n    }\n</style>\n<table border=\"1\" class=\"dataframe\">\n  <thead>\n    <tr style=\"text-align: right;\">\n      <th></th>\n      <th>Text</th>\n      <th>Gender</th>\n    </tr>\n    <tr>\n      <th>Label</th>\n      <th></th>\n      <th></th>\n    </tr>\n  </thead>\n  <tbody>\n    <tr>\n      <th>-1.0</th>\n      <td>316</td>\n      <td>316</td>\n    </tr>\n    <tr>\n      <th>0.0</th>\n      <td>462</td>\n      <td>462</td>\n    </tr>\n    <tr>\n      <th>1.0</th>\n      <td>379</td>\n      <td>379</td>\n    </tr>\n    <tr>\n      <th>2.0</th>\n      <td>1</td>\n      <td>1</td>\n    </tr>\n  </tbody>\n</table>\n</div>"
     },
     "execution_count": 39,
     "metadata": {},
     "output_type": "execute_result"
    }
   ],
   "source": [
    "annotations_labeled = label_with_majority_annotation(annotations,\n",
    "                                                             annotator_names, \"Label\")\n",
    "annotations_labeled[[\"Text\", \"Gender\", \"Label\"]].groupby(\"Label\").count()"
   ],
   "metadata": {
    "collapsed": false,
    "pycharm": {
     "name": "#%%\n"
    }
   }
  },
  {
   "cell_type": "code",
   "execution_count": 41,
   "outputs": [],
   "source": [
    "# Only once is the uncertain label the majority label - hence: drop that case\n",
    "annotations_labeled = annotations_labeled[annotations_labeled[\"Label\"] != 2]\n",
    "annotations_labeled[[\"Text\", \"Gender\", \"Label\"]].to_csv(\"../data/annotated_data_raw/combined_all.csv\")"
   ],
   "metadata": {
    "collapsed": false,
    "pycharm": {
     "name": "#%%\n"
    }
   }
  },
  {
   "cell_type": "code",
   "execution_count": null,
   "outputs": [],
   "source": [],
   "metadata": {
    "collapsed": false,
    "pycharm": {
     "name": "#%%\n"
    }
   }
  }
 ],
 "metadata": {
  "kernelspec": {
   "display_name": "Python 3",
   "language": "python",
   "name": "python3"
  },
  "language_info": {
   "codemirror_mode": {
    "name": "ipython",
    "version": 2
   },
   "file_extension": ".py",
   "mimetype": "text/x-python",
   "name": "python",
   "nbconvert_exporter": "python",
   "pygments_lexer": "ipython2",
   "version": "2.7.6"
  }
 },
 "nbformat": 4,
 "nbformat_minor": 0
}