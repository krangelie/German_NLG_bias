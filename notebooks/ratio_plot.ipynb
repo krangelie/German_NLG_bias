{
 "cells": [
  {
   "cell_type": "markdown",
   "source": [
    "# Plot sexism ratios\n",
    "To get ratios:*\n",
    "* Run `run.py` with configs `run_mode=eval_bias` with\n",
    "    * `qual_eval: True`\n",
    "    * `add_bias_labels: True`\n",
    "    * `compute_ratios: True` (Note: for the thesis, the labels were manually validated and corrected\n",
    "    where necessary before computing ratios)\n",
    "* Read values from `qualitative_bias_ratios.json`"
   ],
   "metadata": {
    "collapsed": false
   }
  },
  {
   "cell_type": "code",
   "execution_count": 6,
   "metadata": {
    "collapsed": true
   },
   "outputs": [],
   "source": [
    "import os\n",
    "\n",
    "from matplotlib import pyplot as plt\n",
    "import seaborn as sns\n",
    "import numpy as np\n"
   ]
  },
  {
   "cell_type": "code",
   "execution_count": 7,
   "outputs": [],
   "source": [
    "# Where to store plots\n",
    "out_path = \"../plots\"\n",
    "os.makedirs(out_path, exist_ok=True)"
   ],
   "metadata": {
    "collapsed": false
   }
  },
  {
   "cell_type": "code",
   "execution_count": 8,
   "outputs": [],
   "source": [
    "def plot_ratios(ordered_score_counts, label_list, title=None, ax=None):\n",
    "    width = 0.5\n",
    "\n",
    "    ind = np.arange(4)\n",
    "    #palette = sns.color_palette(\"colorblind\")\n",
    "    #colors = [palette[2], palette[4], palette[5]]\n",
    "    palette = sns.color_palette(\"coolwarm\")\n",
    "    colors = [palette[-1], palette[0], palette[4]]\n",
    "    color_id = 0\n",
    "    for score_idx in range(len(ordered_score_counts)):\n",
    "        scores = ordered_score_counts[score_idx]\n",
    "        label = label_list[color_id]\n",
    "        next_id = color_id\n",
    "        if score_idx%2 == 1:\n",
    "            hatch = \"//\"\n",
    "            next_id += 1\n",
    "        else:\n",
    "            hatch = \"\"\n",
    "\n",
    "        if ax is None:\n",
    "            plt.bar(\n",
    "                (score_idx * width * 1.5),\n",
    "                scores,\n",
    "                color=colors[color_id],\n",
    "                width=width,\n",
    "                align=\"center\",\n",
    "                label=label,\n",
    "                hatch=hatch\n",
    "            )\n",
    "        else:\n",
    "            ax.bar(\n",
    "                (score_idx * width * 1.5),\n",
    "                scores,\n",
    "                color=colors[color_id],\n",
    "                width=width,\n",
    "                align=\"center\",\n",
    "                label=label,\n",
    "                hatch=hatch\n",
    "            )\n",
    "        color_id = next_id\n",
    "\n",
    "    plt.xticks((ind + 0.25) * (color_id/2), [])\n",
    "    if ax is not None:\n",
    "        if title is not None:\n",
    "            ax.set_xlabel(title, fontsize=15)\n",
    "        ax.set_ylim([0, 18])\n",
    "        plt.setp(ax.get_xticklabels(), fontsize=14)\n",
    "        plt.setp(ax.get_yticklabels(), fontsize=14)\n",
    "\n",
    "\n",
    "\n",
    "    \"\"\"\n",
    "    plt.legend(\n",
    "        bbox_to_anchor=(0.05, 0.95),\n",
    "        #loc=\"upper center\",\n",
    "        borderaxespad=0.0,\n",
    "        ncol=1,\n",
    "        fancybox=True,\n",
    "    )\"\"\""
   ],
   "metadata": {
    "collapsed": false
   }
  },
  {
   "cell_type": "code",
   "execution_count": 9,
   "outputs": [],
   "source": [
    "def plot_legends(ax):\n",
    "    styles = [\" \", \"//\"]\n",
    "    #palette = sns.color_palette(\"colorblind\")\n",
    "    #colors = [palette[2], palette[4], palette[5]]\n",
    "    palette = sns.color_palette(\"coolwarm\")\n",
    "    colors = [palette[-1], palette[0], palette[4]]\n",
    "    ax1, ax2 = ax.twinx(), ax.twinx()\n",
    "    for cc, col in enumerate(colors):\n",
    "        ax1.bar(np.NaN, np.NaN, color=colors[cc], label=names[cc])\n",
    "\n",
    "    for gen, sty in zip([\"F\", \"M\"], styles):\n",
    "        ax2.bar(np.NaN, np.NaN, hatch=sty,\n",
    "                 label=gen, color='grey')\n",
    "    ax1.get_yaxis().set_visible(False)\n",
    "    ax2.get_yaxis().set_visible(False)\n",
    "\n",
    "    ax1.legend(loc=\"upper right\", fontsize=13)\n",
    "    ax2.legend(loc=\"center right\", fontsize=13)"
   ],
   "metadata": {
    "collapsed": false
   }
  },
  {
   "cell_type": "markdown",
   "source": [
    "# Sexism plots"
   ],
   "metadata": {
    "collapsed": false
   }
  },
  {
   "cell_type": "markdown",
   "source": [
    "baseline - EN"
   ],
   "metadata": {
    "collapsed": false
   }
  },
  {
   "cell_type": "code",
   "execution_count": 10,
   "outputs": [
    {
     "name": "stderr",
     "output_type": "stream",
     "text": [
      "/var/folders/df/2d8rjmx139x558sf3tlzhwyc0000gn/T/ipykernel_2449/3329184293.py:12: MatplotlibDeprecationWarning: hatch must consist of a string of \"*+-./OX\\ox|\" or None, but found the following invalid values \" \". Passing invalid values is deprecated since 3.4 and will become an error in 3.7.\n",
      "  ax2.bar(np.NaN, np.NaN, hatch=sty,\n"
     ]
    },
    {
     "data": {
      "text/plain": "<Figure size 576x288 with 4 Axes>",
      "image/png": "[encoded data removed]"
     },
     "metadata": {
      "needs_background": "light"
     },
     "output_type": "display_data"
    }
   ],
   "source": [
    "names = [\"caregiving\", \"sexualization\", \"perpetration\"]\n",
    "fig, axes = plt.subplots(1, 2, sharex=True, sharey=True)\n",
    "fig.set_size_inches(8, 4)\n",
    "fig.suptitle(\"Proportion per sexism type [%] - English\", fontsize=17)\n",
    "\n",
    "\n",
    "ordered_score_counts_i = [16.5, 3.2, 6.2, 1.4, 5.0, 12] # no trigger - GPT2\n",
    "ordered_score_counts_j = [15.6, 4.2, 5.8, 1.0, 2.0, 5.6] # no trigger - GPT3\n",
    "\n",
    "condition = [\"GPT-2\", \"GPT-3\"]\n",
    "\n",
    "\n",
    "o = [ordered_score_counts_i, ordered_score_counts_j]\n",
    "for i, ax in enumerate(axes):\n",
    "    plot_ratios(o[i], names, title=condition[i], ax=ax)\n",
    "    if i == 1:\n",
    "        plot_legends(ax)\n",
    "plt.tight_layout()\n",
    "plt.show()\n",
    "fig.savefig(os.path.join(out_path, \"gender_wise_sexism_ratios_EN_baseline.png\"), dpi=300)\n",
    "\n",
    "\n",
    "\n"
   ],
   "metadata": {
    "collapsed": false
   }
  },
  {
   "cell_type": "code",
   "execution_count": null,
   "outputs": [],
   "source": [
    "# baseline - GER"
   ],
   "metadata": {
    "collapsed": false
   }
  },
  {
   "cell_type": "code",
   "execution_count": 7,
   "outputs": [
    {
     "name": "stderr",
     "output_type": "stream",
     "text": [
      "/var/folders/df/2d8rjmx139x558sf3tlzhwyc0000gn/T/ipykernel_4261/3329184293.py:12: MatplotlibDeprecationWarning: hatch must consist of a string of \"*+-./OX\\ox|\" or None, but found the following invalid values \" \". Passing invalid values is deprecated since 3.4 and will become an error in 3.7.\n",
      "  ax2.bar(np.NaN, np.NaN, hatch=sty,\n"
     ]
    },
    {
     "data": {
      "text/plain": "<Figure size 576x288 with 4 Axes>",
      "image/png": "[encoded data removed]"
     },
     "metadata": {
      "needs_background": "light"
     },
     "output_type": "display_data"
    }
   ],
   "source": [
    "names = [\"caregiving\", \"sexualization\", \"perpetration\"]\n",
    "fig, axes = plt.subplots(1, 2, sharex=True, sharey=True)\n",
    "fig.set_size_inches(8, 4)\n",
    "fig.suptitle(\"Proportion per sexism type [%] - German\", fontsize=17)\n",
    "\n",
    "\n",
    "ordered_score_counts_i = [13.0, 4.2, 2.6, 0.9, 1.5, 7.0] # no trigger - GerPT2\n",
    "ordered_score_counts_j = [9.9, 3.9, 2.5, 1.4, 1.0, 4.5] # no trigger - GPT3\n",
    "\n",
    "condition = [\"GerPT-2\", \"GPT-3\"]\n",
    "\n",
    "\n",
    "o = [ordered_score_counts_i, ordered_score_counts_j]\n",
    "for i, ax in enumerate(axes):\n",
    "    plot_ratios(o[i], names, title=condition[i], ax=ax)\n",
    "    if i == 1:\n",
    "        plot_legends(ax)\n",
    "plt.tight_layout()\n",
    "plt.show()\n",
    "fig.savefig(os.path.join(out_path, \"gender_wise_sexism_ratios_GER_baseline.png\"), dpi=300)"
   ],
   "metadata": {
    "collapsed": false
   }
  }
 ],
 "metadata": {
  "kernelspec": {
   "display_name": "Python 3",
   "language": "python",
   "name": "python3"
  },
  "language_info": {
   "codemirror_mode": {
    "name": "ipython",
    "version": 2
   },
   "file_extension": ".py",
   "mimetype": "text/x-python",
   "name": "python",
   "nbconvert_exporter": "python",
   "pygments_lexer": "ipython2",
   "version": "2.7.6"
  }
 },
 "nbformat": 4,
 "nbformat_minor": 0
}
