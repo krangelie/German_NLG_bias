{
 "cells": [
  {
   "cell_type": "code",
   "execution_count": 1,
   "metadata": {
    "collapsed": true
   },
   "outputs": [],
   "source": [
    "import pandas as pd\n",
    "\n"
   ]
  },
  {
   "cell_type": "code",
   "execution_count": 11,
   "outputs": [],
   "source": [
    "def downsample(csv_file, sample_size):\n",
    "    df = pd.read_csv(csv_file)\n",
    "    df_downsampled = df.sample(n=sample_size, axis=0)\n",
    "    assert len(df_downsampled) == sample_size\n",
    "    out_file = csv_file.replace(\".csv\", \"_downsampled.csv\")\n",
    "    print(out_file)\n",
    "    df_downsampled.to_csv(out_file)"
   ],
   "metadata": {
    "collapsed": false,
    "pycharm": {
     "name": "#%%\n"
    }
   }
  },
  {
   "cell_type": "code",
   "execution_count": 18,
   "outputs": [
    {
     "name": "stdout",
     "output_type": "stream",
     "text": [
      "../data/gpt3-generated/triggered_extended/transformer/bias_test/FEMALE_SINGLE_texts_regard_qualbias_labeled_downsampled.csv\n"
     ]
    }
   ],
   "source": [
    "downsample(\"../data/gpt3-generated/triggered_extended/transformer/bias_test/FEMALE_SINGLE_texts_regard_qualbias_labeled.csv\", 500)"
   ],
   "metadata": {
    "collapsed": false,
    "pycharm": {
     "name": "#%%\n"
    }
   }
  },
  {
   "cell_type": "code",
   "execution_count": 6,
   "outputs": [
    {
     "data": {
      "text/plain": "     Unnamed: 0  Unnamed: 0.1  \\\n345         345           345   \n309         309           309   \n823         823           823   \n136         136           136   \n170         170           170   \n..          ...           ...   \n173         173           173   \n833         833           833   \n487         487           487   \n266         266           266   \n54           54            54   \n\n                                                  Text  regard  OCC context  \\\n345  Die Frau war sehr bekannt dafür, dass sie niem...     2.0        False   \n309  Die Frau war sehr bekannt dafür, dass sie die ...     0.0        False   \n823  Die Frau war sehr bekannt dafür, dass sie in e...     1.0        False   \n136  Die Frau galt als sehr intelligent und hatte e...     2.0        False   \n170  Die Frau wurde beschrieben als 30-40 Jahre alt...     1.0        False   \n..                                                 ...     ...          ...   \n173  Die Frau wurde beschrieben als ca. 40 Jahre al...     1.0        False   \n833  Die Frau war sehr bekannt dafür, dass sie für ...     2.0        False   \n487  Die Frau hatte eine Teilzeitstelle als Haushäl...     1.0         True   \n266  Die Frau wurde wahrgenommen als wäre sie eine ...     0.0        False   \n54   Die Frau arbeitete als Lehrerin, sie hatte sic...     0.0         True   \n\n     sexualization  perpetrator  caregiver  \n345           True        False      False  \n309          False        False      False  \n823          False        False      False  \n136          False        False      False  \n170          False        False      False  \n..             ...          ...        ...  \n173          False        False      False  \n833          False        False      False  \n487          False        False       True  \n266          False        False      False  \n54           False        False       True  \n\n[1000 rows x 8 columns]",
      "text/html": "<div>\n<style scoped>\n    .dataframe tbody tr th:only-of-type {\n        vertical-align: middle;\n    }\n\n    .dataframe tbody tr th {\n        vertical-align: top;\n    }\n\n    .dataframe thead th {\n        text-align: right;\n    }\n</style>\n<table border=\"1\" class=\"dataframe\">\n  <thead>\n    <tr style=\"text-align: right;\">\n      <th></th>\n      <th>Unnamed: 0</th>\n      <th>Unnamed: 0.1</th>\n      <th>Text</th>\n      <th>regard</th>\n      <th>OCC context</th>\n      <th>sexualization</th>\n      <th>perpetrator</th>\n      <th>caregiver</th>\n    </tr>\n  </thead>\n  <tbody>\n    <tr>\n      <th>345</th>\n      <td>345</td>\n      <td>345</td>\n      <td>Die Frau war sehr bekannt dafür, dass sie niem...</td>\n      <td>2.0</td>\n      <td>False</td>\n      <td>True</td>\n      <td>False</td>\n      <td>False</td>\n    </tr>\n    <tr>\n      <th>309</th>\n      <td>309</td>\n      <td>309</td>\n      <td>Die Frau war sehr bekannt dafür, dass sie die ...</td>\n      <td>0.0</td>\n      <td>False</td>\n      <td>False</td>\n      <td>False</td>\n      <td>False</td>\n    </tr>\n    <tr>\n      <th>823</th>\n      <td>823</td>\n      <td>823</td>\n      <td>Die Frau war sehr bekannt dafür, dass sie in e...</td>\n      <td>1.0</td>\n      <td>False</td>\n      <td>False</td>\n      <td>False</td>\n      <td>False</td>\n    </tr>\n    <tr>\n      <th>136</th>\n      <td>136</td>\n      <td>136</td>\n      <td>Die Frau galt als sehr intelligent und hatte e...</td>\n      <td>2.0</td>\n      <td>False</td>\n      <td>False</td>\n      <td>False</td>\n      <td>False</td>\n    </tr>\n    <tr>\n      <th>170</th>\n      <td>170</td>\n      <td>170</td>\n      <td>Die Frau wurde beschrieben als 30-40 Jahre alt...</td>\n      <td>1.0</td>\n      <td>False</td>\n      <td>False</td>\n      <td>False</td>\n      <td>False</td>\n    </tr>\n    <tr>\n      <th>...</th>\n      <td>...</td>\n      <td>...</td>\n      <td>...</td>\n      <td>...</td>\n      <td>...</td>\n      <td>...</td>\n      <td>...</td>\n      <td>...</td>\n    </tr>\n    <tr>\n      <th>173</th>\n      <td>173</td>\n      <td>173</td>\n      <td>Die Frau wurde beschrieben als ca. 40 Jahre al...</td>\n      <td>1.0</td>\n      <td>False</td>\n      <td>False</td>\n      <td>False</td>\n      <td>False</td>\n    </tr>\n    <tr>\n      <th>833</th>\n      <td>833</td>\n      <td>833</td>\n      <td>Die Frau war sehr bekannt dafür, dass sie für ...</td>\n      <td>2.0</td>\n      <td>False</td>\n      <td>False</td>\n      <td>False</td>\n      <td>False</td>\n    </tr>\n    <tr>\n      <th>487</th>\n      <td>487</td>\n      <td>487</td>\n      <td>Die Frau hatte eine Teilzeitstelle als Haushäl...</td>\n      <td>1.0</td>\n      <td>True</td>\n      <td>False</td>\n      <td>False</td>\n      <td>True</td>\n    </tr>\n    <tr>\n      <th>266</th>\n      <td>266</td>\n      <td>266</td>\n      <td>Die Frau wurde wahrgenommen als wäre sie eine ...</td>\n      <td>0.0</td>\n      <td>False</td>\n      <td>False</td>\n      <td>False</td>\n      <td>False</td>\n    </tr>\n    <tr>\n      <th>54</th>\n      <td>54</td>\n      <td>54</td>\n      <td>Die Frau arbeitete als Lehrerin, sie hatte sic...</td>\n      <td>0.0</td>\n      <td>True</td>\n      <td>False</td>\n      <td>False</td>\n      <td>True</td>\n    </tr>\n  </tbody>\n</table>\n<p>1000 rows × 8 columns</p>\n</div>"
     },
     "execution_count": 6,
     "metadata": {},
     "output_type": "execute_result"
    }
   ],
   "source": [],
   "metadata": {
    "collapsed": false,
    "pycharm": {
     "name": "#%%\n"
    }
   }
  },
  {
   "cell_type": "code",
   "execution_count": null,
   "outputs": [],
   "source": [],
   "metadata": {
    "collapsed": false,
    "pycharm": {
     "name": "#%%\n"
    }
   }
  }
 ],
 "metadata": {
  "kernelspec": {
   "display_name": "Python 3",
   "language": "python",
   "name": "python3"
  },
  "language_info": {
   "codemirror_mode": {
    "name": "ipython",
    "version": 2
   },
   "file_extension": ".py",
   "mimetype": "text/x-python",
   "name": "python",
   "nbconvert_exporter": "python",
   "pygments_lexer": "ipython2",
   "version": "2.7.6"
  }
 },
 "nbformat": 4,
 "nbformat_minor": 0
}