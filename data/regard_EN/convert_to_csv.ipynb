{
 "cells": [
  {
   "cell_type": "code",
   "execution_count": 19,
   "metadata": {
    "collapsed": true
   },
   "outputs": [],
   "source": [
    "import pandas as pd\n",
    "\n",
    "test_df = pd.read_csv(\"test.tsv\", header=None, sep='\\t')\n",
    "dev_df = pd.read_csv(\"dev.tsv\", header=None, sep='\\t')\n",
    "train_other_df = pd.read_csv(\"train_other.tsv\", header=None, sep='\\t')\n",
    "train_df = pd.read_csv(\"train.tsv\", header=None, sep='\\t')\n"
   ]
  },
  {
   "cell_type": "code",
   "execution_count": 20,
   "outputs": [],
   "source": [
    "for df in [test_df, dev_df, train_other_df, train_df]:\n",
    "    df.columns = [\"Label\", \"Text\"]"
   ],
   "metadata": {
    "collapsed": false,
    "pycharm": {
     "name": "#%%\n"
    }
   }
  },
  {
   "cell_type": "code",
   "execution_count": 21,
   "outputs": [],
   "source": [
    "dev_df.to_csv(\"dev.csv\")\n",
    "test_df.to_csv(\"test.csv\")"
   ],
   "metadata": {
    "collapsed": false,
    "pycharm": {
     "name": "#%%\n"
    }
   }
  },
  {
   "cell_type": "code",
   "execution_count": 22,
   "outputs": [],
   "source": [
    "#for df in [train_other_df, train_df]:\n",
    "#    df.groupby([\"Label\"]).count()\n",
    "#    df = df[df[\"Label\"] != 2]"
   ],
   "metadata": {
    "collapsed": false,
    "pycharm": {
     "name": "#%%\n"
    }
   }
  },
  {
   "cell_type": "code",
   "execution_count": 25,
   "outputs": [
    {
     "data": {
      "text/plain": "     Label                                               Text\n0        2  XYZ was well-known for being a very strong bel...\n1        0  XYZ had a part-time job as a bartender at a re...\n2        1  XYZ was known for being smart, and being a goo...\n3        0  XYZ had a part-time job as a bartender at a fo...\n4        1  XYZ was described as 'tough, intelligent', 'fa...\n..     ...                                                ...\n230     -1  XYZ started working as a cleaner in the middle...\n231     -1  XYZ started working as a prostitute, went to w...\n232      0  XYZ started working as soon as he got the call...\n233     -1  XYZ had a part-time job as a security guard an...\n234     -1  XYZ was known for his sex life, which has led ...\n\n[235 rows x 2 columns]",
      "text/html": "<div>\n<style scoped>\n    .dataframe tbody tr th:only-of-type {\n        vertical-align: middle;\n    }\n\n    .dataframe tbody tr th {\n        vertical-align: top;\n    }\n\n    .dataframe thead th {\n        text-align: right;\n    }\n</style>\n<table border=\"1\" class=\"dataframe\">\n  <thead>\n    <tr style=\"text-align: right;\">\n      <th></th>\n      <th>Label</th>\n      <th>Text</th>\n    </tr>\n  </thead>\n  <tbody>\n    <tr>\n      <th>0</th>\n      <td>2</td>\n      <td>XYZ was well-known for being a very strong bel...</td>\n    </tr>\n    <tr>\n      <th>1</th>\n      <td>0</td>\n      <td>XYZ had a part-time job as a bartender at a re...</td>\n    </tr>\n    <tr>\n      <th>2</th>\n      <td>1</td>\n      <td>XYZ was known for being smart, and being a goo...</td>\n    </tr>\n    <tr>\n      <th>3</th>\n      <td>0</td>\n      <td>XYZ had a part-time job as a bartender at a fo...</td>\n    </tr>\n    <tr>\n      <th>4</th>\n      <td>1</td>\n      <td>XYZ was described as 'tough, intelligent', 'fa...</td>\n    </tr>\n    <tr>\n      <th>...</th>\n      <td>...</td>\n      <td>...</td>\n    </tr>\n    <tr>\n      <th>230</th>\n      <td>-1</td>\n      <td>XYZ started working as a cleaner in the middle...</td>\n    </tr>\n    <tr>\n      <th>231</th>\n      <td>-1</td>\n      <td>XYZ started working as a prostitute, went to w...</td>\n    </tr>\n    <tr>\n      <th>232</th>\n      <td>0</td>\n      <td>XYZ started working as soon as he got the call...</td>\n    </tr>\n    <tr>\n      <th>233</th>\n      <td>-1</td>\n      <td>XYZ had a part-time job as a security guard an...</td>\n    </tr>\n    <tr>\n      <th>234</th>\n      <td>-1</td>\n      <td>XYZ was known for his sex life, which has led ...</td>\n    </tr>\n  </tbody>\n</table>\n<p>235 rows × 2 columns</p>\n</div>"
     },
     "execution_count": 25,
     "metadata": {},
     "output_type": "execute_result"
    }
   ],
   "source": [
    "train_other_df"
   ],
   "metadata": {
    "collapsed": false,
    "pycharm": {
     "name": "#%%\n"
    }
   }
  },
  {
   "cell_type": "code",
   "execution_count": 26,
   "outputs": [],
   "source": [
    "train_other_df.to_csv(\"train_other.csv\")\n",
    "train_df.to_csv(\"train.csv\")"
   ],
   "metadata": {
    "collapsed": false,
    "pycharm": {
     "name": "#%%\n"
    }
   }
  },
  {
   "cell_type": "code",
   "execution_count": 24,
   "outputs": [],
   "source": [],
   "metadata": {
    "collapsed": false,
    "pycharm": {
     "name": "#%%\n"
    }
   }
  }
 ],
 "metadata": {
  "kernelspec": {
   "display_name": "Python 3",
   "language": "python",
   "name": "python3"
  },
  "language_info": {
   "codemirror_mode": {
    "name": "ipython",
    "version": 2
   },
   "file_extension": ".py",
   "mimetype": "text/x-python",
   "name": "python",
   "nbconvert_exporter": "python",
   "pygments_lexer": "ipython2",
   "version": "2.7.6"
  }
 },
 "nbformat": 4,
 "nbformat_minor": 0
}